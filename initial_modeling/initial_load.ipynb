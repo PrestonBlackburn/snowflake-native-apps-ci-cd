{
 "cells": [
  {
   "cell_type": "markdown",
   "metadata": {},
   "source": [
    "# 1. Load Data To Snowflake\n",
    "### This notebook uploads the training data to Snowflake\n",
    "In a real scenario the data would already be in Snowflake"
   ]
  },
  {
   "cell_type": "code",
   "execution_count": 25,
   "metadata": {},
   "outputs": [],
   "source": [
    "import pandas as pd\n",
    "from snowflake.snowpark.session import Session\n",
    "import configparser\n"
   ]
  },
  {
   "cell_type": "code",
   "execution_count": 26,
   "metadata": {},
   "outputs": [],
   "source": [
    "telco_df = pd.read_parquet(\"../test_data/raw_telco_data.parquet\")"
   ]
  },
  {
   "cell_type": "code",
   "execution_count": 27,
   "metadata": {},
   "outputs": [
    {
     "data": {
      "text/html": [
       "<div>\n",
       "<style scoped>\n",
       "    .dataframe tbody tr th:only-of-type {\n",
       "        vertical-align: middle;\n",
       "    }\n",
       "\n",
       "    .dataframe tbody tr th {\n",
       "        vertical-align: top;\n",
       "    }\n",
       "\n",
       "    .dataframe thead th {\n",
       "        text-align: right;\n",
       "    }\n",
       "</style>\n",
       "<table border=\"1\" class=\"dataframe\">\n",
       "  <thead>\n",
       "    <tr style=\"text-align: right;\">\n",
       "      <th></th>\n",
       "      <th>CUSTOMERID</th>\n",
       "      <th>GENDER</th>\n",
       "      <th>PARTNER</th>\n",
       "      <th>DEPENDENTS</th>\n",
       "      <th>COUNTRY</th>\n",
       "      <th>CITY</th>\n",
       "      <th>STATE</th>\n",
       "      <th>ZIP CODE</th>\n",
       "      <th>LONGITUDE</th>\n",
       "      <th>LATITUDE</th>\n",
       "      <th>...</th>\n",
       "      <th>STREAMING TV</th>\n",
       "      <th>CONTRACT</th>\n",
       "      <th>CHURN SCORE</th>\n",
       "      <th>ONLINE BACKUP</th>\n",
       "      <th>DEVICE PROTECTION</th>\n",
       "      <th>TOTAL CHARGES</th>\n",
       "      <th>CLTV</th>\n",
       "      <th>CHURN VALUE</th>\n",
       "      <th>CHURN LABEL</th>\n",
       "      <th>CHURN REASON</th>\n",
       "    </tr>\n",
       "  </thead>\n",
       "  <tbody>\n",
       "    <tr>\n",
       "      <th>0</th>\n",
       "      <td>7090-ZyCMx</td>\n",
       "      <td>Female</td>\n",
       "      <td>False</td>\n",
       "      <td>True</td>\n",
       "      <td>United States</td>\n",
       "      <td>Los Angeles</td>\n",
       "      <td>California</td>\n",
       "      <td>90005</td>\n",
       "      <td>-118.307420</td>\n",
       "      <td>34.059281</td>\n",
       "      <td>...</td>\n",
       "      <td>No</td>\n",
       "      <td>Month-to-month</td>\n",
       "      <td>1</td>\n",
       "      <td>No</td>\n",
       "      <td>No</td>\n",
       "      <td>151.65</td>\n",
       "      <td>2701</td>\n",
       "      <td>1.0</td>\n",
       "      <td>True</td>\n",
       "      <td>Moved</td>\n",
       "    </tr>\n",
       "    <tr>\n",
       "      <th>1</th>\n",
       "      <td>1364-wJXMS</td>\n",
       "      <td>Female</td>\n",
       "      <td>False</td>\n",
       "      <td>True</td>\n",
       "      <td>United States</td>\n",
       "      <td>Los Angeles</td>\n",
       "      <td>California</td>\n",
       "      <td>90006</td>\n",
       "      <td>-118.293953</td>\n",
       "      <td>34.048013</td>\n",
       "      <td>...</td>\n",
       "      <td>Yes</td>\n",
       "      <td>Month-to-month</td>\n",
       "      <td>1</td>\n",
       "      <td>No</td>\n",
       "      <td>Yes</td>\n",
       "      <td>820.50</td>\n",
       "      <td>5372</td>\n",
       "      <td>1.0</td>\n",
       "      <td>True</td>\n",
       "      <td>Moved</td>\n",
       "    </tr>\n",
       "    <tr>\n",
       "      <th>2</th>\n",
       "      <td>6564-sLgIC</td>\n",
       "      <td>Male</td>\n",
       "      <td>False</td>\n",
       "      <td>True</td>\n",
       "      <td>United States</td>\n",
       "      <td>Los Angeles</td>\n",
       "      <td>California</td>\n",
       "      <td>90065</td>\n",
       "      <td>-118.229715</td>\n",
       "      <td>34.108833</td>\n",
       "      <td>...</td>\n",
       "      <td>Yes</td>\n",
       "      <td>Month-to-month</td>\n",
       "      <td>1</td>\n",
       "      <td>No</td>\n",
       "      <td>No</td>\n",
       "      <td>1752.55</td>\n",
       "      <td>3179</td>\n",
       "      <td>1.0</td>\n",
       "      <td>True</td>\n",
       "      <td>Competitor made better offer</td>\n",
       "    </tr>\n",
       "    <tr>\n",
       "      <th>3</th>\n",
       "      <td>7853-2xheR</td>\n",
       "      <td>Male</td>\n",
       "      <td>False</td>\n",
       "      <td>True</td>\n",
       "      <td>United States</td>\n",
       "      <td>La Habra</td>\n",
       "      <td>California</td>\n",
       "      <td>90631</td>\n",
       "      <td>-117.951300</td>\n",
       "      <td>33.940619</td>\n",
       "      <td>...</td>\n",
       "      <td>No</td>\n",
       "      <td>Month-to-month</td>\n",
       "      <td>1</td>\n",
       "      <td>No</td>\n",
       "      <td>No</td>\n",
       "      <td>229.55</td>\n",
       "      <td>4415</td>\n",
       "      <td>1.0</td>\n",
       "      <td>True</td>\n",
       "      <td>Product dissatisfaction</td>\n",
       "    </tr>\n",
       "    <tr>\n",
       "      <th>4</th>\n",
       "      <td>8457-E9FuW</td>\n",
       "      <td>Female</td>\n",
       "      <td>False</td>\n",
       "      <td>True</td>\n",
       "      <td>United States</td>\n",
       "      <td>Glendale</td>\n",
       "      <td>California</td>\n",
       "      <td>91206</td>\n",
       "      <td>-118.203869</td>\n",
       "      <td>34.162515</td>\n",
       "      <td>...</td>\n",
       "      <td>No</td>\n",
       "      <td>Month-to-month</td>\n",
       "      <td>1</td>\n",
       "      <td>Yes</td>\n",
       "      <td>Yes</td>\n",
       "      <td>1111.65</td>\n",
       "      <td>5142</td>\n",
       "      <td>1.0</td>\n",
       "      <td>True</td>\n",
       "      <td>Price too high</td>\n",
       "    </tr>\n",
       "  </tbody>\n",
       "</table>\n",
       "<p>5 rows × 33 columns</p>\n",
       "</div>"
      ],
      "text/plain": [
       "   CUSTOMERID  GENDER  PARTNER  DEPENDENTS        COUNTRY         CITY  \\\n",
       "0  7090-ZyCMx  Female    False        True  United States  Los Angeles   \n",
       "1  1364-wJXMS  Female    False        True  United States  Los Angeles   \n",
       "2  6564-sLgIC    Male    False        True  United States  Los Angeles   \n",
       "3  7853-2xheR    Male    False        True  United States     La Habra   \n",
       "4  8457-E9FuW  Female    False        True  United States     Glendale   \n",
       "\n",
       "        STATE ZIP CODE    LONGITUDE   LATITUDE  ... STREAMING TV  \\\n",
       "0  California    90005  -118.307420  34.059281  ...           No   \n",
       "1  California    90006  -118.293953  34.048013  ...          Yes   \n",
       "2  California    90065  -118.229715  34.108833  ...          Yes   \n",
       "3  California    90631  -117.951300  33.940619  ...           No   \n",
       "4  California    91206  -118.203869  34.162515  ...           No   \n",
       "\n",
       "         CONTRACT CHURN SCORE  ONLINE BACKUP  DEVICE PROTECTION TOTAL CHARGES  \\\n",
       "0  Month-to-month           1             No                 No        151.65   \n",
       "1  Month-to-month           1             No                Yes        820.50   \n",
       "2  Month-to-month           1             No                 No       1752.55   \n",
       "3  Month-to-month           1             No                 No        229.55   \n",
       "4  Month-to-month           1            Yes                Yes       1111.65   \n",
       "\n",
       "   CLTV CHURN VALUE CHURN LABEL                  CHURN REASON  \n",
       "0  2701         1.0        True                         Moved  \n",
       "1  5372         1.0        True                         Moved  \n",
       "2  3179         1.0        True  Competitor made better offer  \n",
       "3  4415         1.0        True       Product dissatisfaction  \n",
       "4  5142         1.0        True                Price too high  \n",
       "\n",
       "[5 rows x 33 columns]"
      ]
     },
     "execution_count": 27,
     "metadata": {},
     "output_type": "execute_result"
    }
   ],
   "source": [
    "telco_df.head()"
   ]
  },
  {
   "cell_type": "code",
   "execution_count": 28,
   "metadata": {},
   "outputs": [
    {
     "name": "stdout",
     "output_type": "stream",
     "text": [
      "<class 'pandas.core.frame.DataFrame'>\n",
      "RangeIndex: 100000 entries, 0 to 99999\n",
      "Data columns (total 33 columns):\n",
      " #   Column             Non-Null Count   Dtype  \n",
      "---  ------             --------------   -----  \n",
      " 0   CUSTOMERID         100000 non-null  object \n",
      " 1   GENDER             100000 non-null  object \n",
      " 2   PARTNER            100000 non-null  bool   \n",
      " 3   DEPENDENTS         100000 non-null  bool   \n",
      " 4   COUNTRY            100000 non-null  object \n",
      " 5   CITY               100000 non-null  object \n",
      " 6   STATE              100000 non-null  object \n",
      " 7   ZIP CODE           100000 non-null  object \n",
      " 8   LONGITUDE          100000 non-null  object \n",
      " 9   LATITUDE           100000 non-null  object \n",
      " 10  PHONE SERVICE      100000 non-null  object \n",
      " 11  MULTIPLE LINES     100000 non-null  object \n",
      " 12  ONLINE SECURITY    100000 non-null  object \n",
      " 13  SENIOR CITIZEN     100000 non-null  bool   \n",
      " 14  MONTHLY CHARGES    100000 non-null  float64\n",
      " 15  STREAMING MOVIES   100000 non-null  object \n",
      " 16  PAYMENT METHOD     100000 non-null  object \n",
      " 17  LAT LONG           100000 non-null  object \n",
      " 18  TENURE MONTHS      100000 non-null  object \n",
      " 19  COUNT              100000 non-null  object \n",
      " 20  PAPERLESS BILLING  100000 non-null  bool   \n",
      " 21  TECH SUPPORT       100000 non-null  object \n",
      " 22  INTERNET SERVICE   100000 non-null  object \n",
      " 23  STREAMING TV       100000 non-null  object \n",
      " 24  CONTRACT           100000 non-null  object \n",
      " 25  CHURN SCORE        100000 non-null  object \n",
      " 26  ONLINE BACKUP      100000 non-null  object \n",
      " 27  DEVICE PROTECTION  100000 non-null  object \n",
      " 28  TOTAL CHARGES      100000 non-null  float64\n",
      " 29  CLTV               100000 non-null  object \n",
      " 30  CHURN VALUE        100000 non-null  float64\n",
      " 31  CHURN LABEL        100000 non-null  bool   \n",
      " 32  CHURN REASON       100000 non-null  object \n",
      "dtypes: bool(5), float64(3), object(25)\n",
      "memory usage: 21.8+ MB\n"
     ]
    }
   ],
   "source": [
    "telco_df.info()"
   ]
  },
  {
   "cell_type": "code",
   "execution_count": 29,
   "metadata": {},
   "outputs": [
    {
     "data": {
      "text/html": [
       "<div>\n",
       "<style scoped>\n",
       "    .dataframe tbody tr th:only-of-type {\n",
       "        vertical-align: middle;\n",
       "    }\n",
       "\n",
       "    .dataframe tbody tr th {\n",
       "        vertical-align: top;\n",
       "    }\n",
       "\n",
       "    .dataframe thead th {\n",
       "        text-align: right;\n",
       "    }\n",
       "</style>\n",
       "<table border=\"1\" class=\"dataframe\">\n",
       "  <thead>\n",
       "    <tr style=\"text-align: right;\">\n",
       "      <th></th>\n",
       "      <th>MONTHLY CHARGES</th>\n",
       "      <th>TOTAL CHARGES</th>\n",
       "      <th>CHURN VALUE</th>\n",
       "    </tr>\n",
       "  </thead>\n",
       "  <tbody>\n",
       "    <tr>\n",
       "      <th>count</th>\n",
       "      <td>100000.000000</td>\n",
       "      <td>100000.000000</td>\n",
       "      <td>100000.000000</td>\n",
       "    </tr>\n",
       "    <tr>\n",
       "      <th>mean</th>\n",
       "      <td>65.601117</td>\n",
       "      <td>2222.032082</td>\n",
       "      <td>0.322260</td>\n",
       "    </tr>\n",
       "    <tr>\n",
       "      <th>std</th>\n",
       "      <td>29.808447</td>\n",
       "      <td>2248.711822</td>\n",
       "      <td>0.467344</td>\n",
       "    </tr>\n",
       "    <tr>\n",
       "      <th>min</th>\n",
       "      <td>18.250000</td>\n",
       "      <td>0.000000</td>\n",
       "      <td>0.000000</td>\n",
       "    </tr>\n",
       "    <tr>\n",
       "      <th>25%</th>\n",
       "      <td>40.200000</td>\n",
       "      <td>357.750000</td>\n",
       "      <td>0.000000</td>\n",
       "    </tr>\n",
       "    <tr>\n",
       "      <th>50%</th>\n",
       "      <td>71.100000</td>\n",
       "      <td>1341.500000</td>\n",
       "      <td>0.000000</td>\n",
       "    </tr>\n",
       "    <tr>\n",
       "      <th>75%</th>\n",
       "      <td>90.100000</td>\n",
       "      <td>3653.000000</td>\n",
       "      <td>1.000000</td>\n",
       "    </tr>\n",
       "    <tr>\n",
       "      <th>max</th>\n",
       "      <td>118.750000</td>\n",
       "      <td>8684.800000</td>\n",
       "      <td>1.000000</td>\n",
       "    </tr>\n",
       "  </tbody>\n",
       "</table>\n",
       "</div>"
      ],
      "text/plain": [
       "       MONTHLY CHARGES  TOTAL CHARGES    CHURN VALUE\n",
       "count    100000.000000  100000.000000  100000.000000\n",
       "mean         65.601117    2222.032082       0.322260\n",
       "std          29.808447    2248.711822       0.467344\n",
       "min          18.250000       0.000000       0.000000\n",
       "25%          40.200000     357.750000       0.000000\n",
       "50%          71.100000    1341.500000       0.000000\n",
       "75%          90.100000    3653.000000       1.000000\n",
       "max         118.750000    8684.800000       1.000000"
      ]
     },
     "execution_count": 29,
     "metadata": {},
     "output_type": "execute_result"
    }
   ],
   "source": [
    "telco_df.describe()"
   ]
  },
  {
   "cell_type": "code",
   "execution_count": 30,
   "metadata": {},
   "outputs": [
    {
     "data": {
      "text/plain": [
       "100000"
      ]
     },
     "execution_count": 30,
     "metadata": {},
     "output_type": "execute_result"
    }
   ],
   "source": [
    "# there are no duplicated customer ids, so we can split the data however we like\n",
    "len(telco_df['CUSTOMERID'].unique())"
   ]
  },
  {
   "cell_type": "code",
   "execution_count": 31,
   "metadata": {},
   "outputs": [],
   "source": [
    "# Split the data into two sets: \n",
    "# 1. The initial training dataset (labeled)\n",
    "# 2. The set to make predictions on (simulates live data, not labeled)\n",
    "\n",
    "train_df = telco_df.iloc[0:90000]\n",
    "live_df = telco_df.iloc[90000:-1]\n",
    "\n",
    "\n",
    "train_df.to_parquet(\"../test_data/telco_labeled_subset.parquet\")\n",
    "\n",
    "live_df.pop('CHURN VALUE')\n",
    "live_df.pop('CHURN LABEL')\n",
    "live_df.pop('CHURN REASON')\n",
    "\n",
    "live_df.to_parquet(\"../test_data/telco_unlabeled_subset.parquet\")"
   ]
  },
  {
   "cell_type": "code",
   "execution_count": 32,
   "metadata": {},
   "outputs": [],
   "source": [
    "\n",
    "config = configparser.ConfigParser()\n",
    "config.read('../sf_account.config')\n",
    "session = Session.builder.configs(dict(config['DEFAULT'])).create()  \n"
   ]
  },
  {
   "cell_type": "code",
   "execution_count": 33,
   "metadata": {},
   "outputs": [],
   "source": [
    "# object setup\n",
    "# (make sure your role in sf_account.config has the necessary privileges)\n",
    "database = \"CUSTOMER_DB\"\n",
    "schema = \"CHURN\"\n",
    "stage = \"DATA_LOADING\""
   ]
  },
  {
   "cell_type": "code",
   "execution_count": 23,
   "metadata": {},
   "outputs": [
    {
     "data": {
      "text/plain": [
       "[Row(status='Table TELCO_UNLABELED successfully created.')]"
      ]
     },
     "execution_count": 23,
     "metadata": {},
     "output_type": "execute_result"
    }
   ],
   "source": [
    "# Create Objects and Push to Snowflake\n",
    "\n",
    "\n",
    "\n",
    "session.sql(f\"create database if not exists {database}\").collect()\n",
    "session.sql(f\"create schema if not exists {database}.{schema}\").collect()\n",
    "session.sql(f\"create stage if not exists {database}.{schema}.{stage} DIRECTORY = (ENABLE = TRUE)\").collect()\n",
    "\n",
    "# load the files\n",
    "session.sql(f\"CREATE OR REPLACE FILE FORMAT {database}.{schema}.CHURN_PARQUET_FORMAT TYPE = PARQUET;\").collect()\n",
    "\n",
    "\n",
    "session.file.put(\"../test_data/telco_labeled_subset.parquet\", stage)\n",
    "session.file.put(\"../test_data/telco_unlabeled_subset.parquet\", stage)\n",
    "\n",
    "session.sql(f\"CREATE OR REPLACE \\\n",
    "            TABLE {database}.{schema}.TELCO_LABELED USING TEMPLATE ( \\\n",
    "                SELECT ARRAY_AGG(OBJECT_CONSTRUCT(*)) \\\n",
    "                FROM \\\n",
    "                    TABLE( INFER_SCHEMA( \\\n",
    "                    LOCATION => '@{stage}/telco_labeled_subset.parquet', \\\n",
    "                    FILE_FORMAT => 'CHURN_PARQUET_FORMAT' \\\n",
    "                    ) \\\n",
    "                ) \\\n",
    "            );  \").collect()\n",
    "\n",
    "session.sql(f\"CREATE OR REPLACE \\\n",
    "            TABLE {database}.{schema}.TELCO_UNLABELED USING TEMPLATE ( \\\n",
    "                SELECT ARRAY_AGG(OBJECT_CONSTRUCT(*)) \\\n",
    "                FROM \\\n",
    "                    TABLE( INFER_SCHEMA( \\\n",
    "                    LOCATION => '@{stage}/telco_unlabeled_subset.parquet', \\\n",
    "                    FILE_FORMAT => 'CHURN_PARQUET_FORMAT' \\\n",
    "                    ) \\\n",
    "                ) \\\n",
    "            );  \").collect()\n",
    "\n",
    "\n"
   ]
  },
  {
   "cell_type": "code",
   "execution_count": 40,
   "metadata": {},
   "outputs": [
    {
     "data": {
      "text/plain": [
       "[Row(file='data_loading/telco_labeled_subset.parquet', status='LOADED', rows_parsed=90000, rows_loaded=90000, error_limit=1, errors_seen=0, first_error=None, first_error_line=None, first_error_character=None, first_error_column_name=None)]"
      ]
     },
     "execution_count": 40,
     "metadata": {},
     "output_type": "execute_result"
    }
   ],
   "source": [
    "session.sql(f\"use database {database}\").collect()\n",
    "session.sql(f\"use schema {schema}\").collect()\n",
    "\n",
    "session.sql(f\"\"\" COPY INTO {database}.{schema}.TELCO_LABELED \n",
    "FROM '@{stage}/telco_labeled_subset.parquet' \n",
    "FILE_FORMAT = (TYPE = 'PARQUET')\n",
    "MATCH_BY_COLUMN_NAME = CASE_INSENSITIVE\"\"\").collect()"
   ]
  },
  {
   "cell_type": "code",
   "execution_count": 41,
   "metadata": {},
   "outputs": [
    {
     "data": {
      "text/plain": [
       "[Row(file='data_loading/telco_unlabeled_subset.parquet', status='LOADED', rows_parsed=9999, rows_loaded=9999, error_limit=1, errors_seen=0, first_error=None, first_error_line=None, first_error_character=None, first_error_column_name=None)]"
      ]
     },
     "execution_count": 41,
     "metadata": {},
     "output_type": "execute_result"
    }
   ],
   "source": [
    "session.sql(f\"use database {database}\").collect()\n",
    "session.sql(f\"use schema {schema}\").collect()\n",
    "\n",
    "session.sql(f\"\"\" COPY INTO {database}.{schema}.TELCO_UNLABELED \n",
    "FROM '@{stage}/telco_unlabeled_subset.parquet'\n",
    "FILE_FORMAT = (TYPE = 'PARQUET')\n",
    "MATCH_BY_COLUMN_NAME = CASE_INSENSITIVE\"\"\").collect()"
   ]
  },
  {
   "cell_type": "code",
   "execution_count": null,
   "metadata": {},
   "outputs": [],
   "source": []
  }
 ],
 "metadata": {
  "kernelspec": {
   "display_name": "Python 3",
   "language": "python",
   "name": "python3"
  },
  "language_info": {
   "codemirror_mode": {
    "name": "ipython",
    "version": 3
   },
   "file_extension": ".py",
   "mimetype": "text/x-python",
   "name": "python",
   "nbconvert_exporter": "python",
   "pygments_lexer": "ipython3",
   "version": "3.8.3"
  }
 },
 "nbformat": 4,
 "nbformat_minor": 4
}
